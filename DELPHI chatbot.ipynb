{
 "cells": [
  {
   "cell_type": "markdown",
   "metadata": {},
   "source": [
    "# Chatbot basés sur la récupération (Retrieval Based chatbot)"
   ]
  },
  {
   "cell_type": "markdown",
   "metadata": {},
   "source": [
    "##### Importation des librairies necessaires"
   ]
  },
  {
   "cell_type": "code",
   "execution_count": 1,
   "metadata": {},
   "outputs": [],
   "source": [
    "import io\n",
    "import random\n",
    "import string # pour traiter des chaînes standard en python\n",
    "import numpy as np\n",
    "import nltk\n",
    "from nltk.stem import WordNetLemmatizer"
   ]
  },
  {
   "cell_type": "code",
   "execution_count": 2,
   "metadata": {},
   "outputs": [],
   "source": [
    "# importation de la base de données\n",
    "with open('database.txt','r', encoding='utf8', errors ='ignore') as fin:\n",
    "    raw = fin.read().lower()"
   ]
  },
  {
   "cell_type": "markdown",
   "metadata": {},
   "source": [
    "### 1.Prétraitement des données (Data Pre-Processing)\n",
    "Nous devons diviser notre texte en phrases et en mots, car la similarité en cosinus de l'entrée de l'utilisateur sera comparée à chaque phrase."
   ]
  },
  {
   "cell_type": "code",
   "execution_count": 3,
   "metadata": {},
   "outputs": [],
   "source": [
    "#Tokenisation\n",
    "sent_tokens = nltk.sent_tokenize(raw)# convertit en liste de phrases\n",
    "words_tokens = nltk.word_tokenize(raw)# convertit en liste de mots"
   ]
  },
  {
   "cell_type": "code",
   "execution_count": 5,
   "metadata": {},
   "outputs": [
    {
     "data": {
      "image/png": "[encoded data removed]",
      "text/plain": [
       "<Figure size 432x288 with 1 Axes>"
      ]
     },
     "metadata": {
      "needs_background": "light"
     },
     "output_type": "display_data"
    }
   ],
   "source": [
    "fd = nltk.FreqDist(words_tokens)\n",
    "fd.plot(30,cumulative=False)"
   ]
  },
  {
   "cell_type": "code",
   "execution_count": 6,
   "metadata": {},
   "outputs": [],
   "source": [
    "word_tokens=[]\n",
    "stop=[\"the\",\"and\",\"if\",\"in\",\"is\",\"for\",\"of\",\"we\"]\n",
    "for w in words_tokens:\n",
    "    if w not in stop :\n",
    "        word_tokens.append(w)"
   ]
  },
  {
   "cell_type": "markdown",
   "metadata": {},
   "source": [
    "nous définissons une fonction LemTokens, qui prend une liste de mots en entrée et la lemmatise. \n",
    "\n",
    "La liste remove_punct_dict supprime la ponctuation du texte transmis. \n",
    "Enfin, \n",
    "la méthode LemNormalize prend une phrase en entrée, la tokenise, la lemmatise, puis supprime la ponctuation de la phrase."
   ]
  },
  {
   "cell_type": "code",
   "execution_count": 7,
   "metadata": {},
   "outputs": [],
   "source": [
    "lemmer = WordNetLemmatizer()\n",
    "def LemTokens(tokens):\n",
    "    return [lemmer.lemmatize(token) for token in tokens]\n",
    "remove_punct_dict = dict((ord(punct), None) for punct in string.punctuation)\n",
    "def LemNormalize(text):\n",
    "    return LemTokens(nltk.word_tokenize(text.lower().translate(remove_punct_dict)))"
   ]
  },
  {
   "cell_type": "markdown",
   "metadata": {},
   "source": [
    "Nous devons gérer différents types d'entrées utilisateur de manière différente. Par exemple, pour les salutations, nous allons définir une fonction dédiée. Pour gérer les salutations,"
   ]
  },
  {
   "cell_type": "code",
   "execution_count": 8,
   "metadata": {},
   "outputs": [],
   "source": [
    "# Keyword Matching\n",
    "GREETING_INPUTS = (\"hello\", \"hi\", \"greetings\", \"sup\", \"what's up\",\"hey\")\n",
    "GREETING_RESPONSES = [\"hi\", \"hey\", \"hi there\", \"hello\", \"I am glad! You are talking to me\"]\n",
    "\n",
    "def greeting(sentence):\n",
    "    for word in sentence.split():\n",
    "        if word.lower() in GREETING_INPUTS:\n",
    "            return random.choice(GREETING_RESPONSES)"
   ]
  },
  {
   "cell_type": "markdown",
   "metadata": {},
   "source": [
    "### 2.Génération des réponses (TF-IDF Approach)"
   ]
  },
  {
   "cell_type": "markdown",
   "metadata": {},
   "source": [
    "La réponse sera basée sur la similarité de la forme vectorielle de la phrase d'entrée et des phrases dans les corpus.\n",
    "Le script suivant importe les fonctions: TfidfVectorizer et cosine_similarity"
   ]
  },
  {
   "cell_type": "code",
   "execution_count": 9,
   "metadata": {},
   "outputs": [],
   "source": [
    "from sklearn.feature_extraction.text import TfidfVectorizer\n",
    "from sklearn.metrics.pairwise import cosine_similarity"
   ]
  },
  {
   "cell_type": "markdown",
   "metadata": {},
   "source": [
    "Nous avons maintenant tout mis en place pour générer une réponse aux questions des utilisateurs.\n",
    "Nous allons créer une méthode qui prend l’entrée de l’utilisateur, trouve la similarité en cosinus de l’entrée de l’utilisateur et la compare aux phrases du corpus."
   ]
  },
  {
   "cell_type": "code",
   "execution_count": 10,
   "metadata": {},
   "outputs": [],
   "source": [
    "def response(user_input):\n",
    "    Delphi_response=''\n",
    "    sent_tokens.append(user_input)\n",
    "    \n",
    "    word_vectorizer = TfidfVectorizer(tokenizer=LemNormalize, stop_words='english')\n",
    "    all_word_vectors = word_vectorizer.fit_transform(sent_tokens)  \n",
    "    similar_vector_values = cosine_similarity(all_word_vectors[-1], all_word_vectors)\n",
    "    idx=similar_vector_values.argsort()[0][-2]\n",
    "    \n",
    "    matched_vector = similar_vector_values.flatten()\n",
    "    matched_vector.sort()\n",
    "    vector_matched = matched_vector[-2]\n",
    "   \n",
    "    if(vector_matched==0):\n",
    "        Delphi_response=Delphi_response+\"I am sorry! I don't understand you, contact us for more information\"\n",
    "        return Delphi_response\n",
    "    else:\n",
    "        Delphi_response = Delphi_response+sent_tokens[idx]\n",
    "        return Delphi_response\n"
   ]
  },
  {
   "cell_type": "markdown",
   "metadata": {},
   "source": [
    "* Nous ajoutons l'entrée de l'utilisateur à la liste des phrases existantes.\n",
    "* Nous initialisons le tfidfvectorizer puis convertissons toutes les phrases du corpus ainsi que la phrase entrée dans leur forme vectorisée correspondante.\n",
    "* Nous utilisons la fonction cosine_similarity pour trouver la similarité cosinus entre le dernier élément de la liste all_word_vectors (qui est en fait la question de l'utilisateur) et les vecteurs pour toutes les phrases du corpus."
   ]
  },
  {
   "cell_type": "markdown",
   "metadata": {},
   "source": [
    "* Nous trions la liste contenant les similitudes de cosinus des vecteurs, l’avant-dernier élément de la liste aura le cosinus le plus élevé (après tri) avec l’entrée utilisateur. Le dernier élément est la saisie de l'utilisateur lui-même, nous ne l'avons donc pas sélectionnée."
   ]
  },
  {
   "cell_type": "markdown",
   "metadata": {},
   "source": [
    "* Enfin, nous aplatissons la similarité de cosinus récupérée et vérifions si la similarité est égale à zéro ou non. Si la similarité cosinus du vecteur correspondant est 0, cela signifie que notre requête n'a pas de réponse. Dans ce cas, nous indiquerons simplement que nous ne comprenons pas la requête de l'utilisateur."
   ]
  },
  {
   "cell_type": "markdown",
   "metadata": {},
   "source": [
    "* Sinon, si la similarité du cosinus n'est pas égale à zéro, cela signifie que nous avons trouvé une phrase similaire à l'entrée de notre corpus. Dans ce cas, nous allons simplement passer l'index de la phrase correspondante à notre liste \"sent_tokens\" qui contient la collection de toutes les phrases.\n"
   ]
  },
  {
   "cell_type": "markdown",
   "metadata": {},
   "source": [
    "### 3. Discuter avec le Chatbot"
   ]
  },
  {
   "cell_type": "markdown",
   "metadata": {},
   "source": [
    "* Enfin, nous devons créer une fonction nous permettant de discuter avec le chatbot. Pour ce faire, nous allons écrire une autre fonction d'assistance qui continuera à s'exécuter jusqu'à ce que l'utilisateur tape \"Bye\"."
   ]
  },
  {
   "cell_type": "markdown",
   "metadata": {},
   "source": [
    "* Nous imprimons un message de bienvenue à l'utilisateur pour lui demander toute entrée. Ensuite, nous initialisons une boucle while qui continue à s'exécuter jusqu'à ce que l'indicateur de dialogue continue_dialogue soit False."
   ]
  },
  {
   "cell_type": "markdown",
   "metadata": {},
   "source": [
    "* À l'intérieur de la boucle, une entrée utilisateur est reçue, qui est ensuite convertie en minuscule. L'entrée utilisateur est stockée dans la variable user_response. Si l'utilisateur entre le mot \"bye\", le continue_dialogue est défini sur false et le message d'adieu est imprimé à l'utilisateur.\n"
   ]
  },
  {
   "cell_type": "markdown",
   "metadata": {},
   "source": [
    "* Dès que la réponse est générée, l'entrée utilisateur est supprimée de la collection de phrases (data base),\n",
    "* Le processus se poursuit jusqu'à ce que l'utilisateur tape \"bye\"."
   ]
  },
  {
   "cell_type": "code",
   "execution_count": null,
   "metadata": {},
   "outputs": [
    {
     "name": "stdout",
     "output_type": "stream",
     "text": [
      "\n",
      "\n",
      "\n",
      "==========Delphi==========\n",
      "You can speak to me by typing in English.\n",
      "Enter \"Bye\" to quit\n",
      "==========================\n",
      "Hello. I am Delphi, and i represent Tunis Dauphine University, how can i help you?\n"
     ]
    }
   ],
   "source": [
    "continue_dialogue=True\n",
    "print('\\n\\n')\n",
    "print(\"==========Delphi==========\")\n",
    "print(\"You can speak to me by typing in English.\")\n",
    "print('Enter \"Bye\" to quit')\n",
    "print('='*26)\n",
    "print(\"Hello. I am Delphi, and i represent Tunis Dauphine University, how can i help you?\")\n",
    "#speak(\"Hello. I am Delphi, and i represent Tunis Dauphine University, how can i help you?\")\n",
    "\n",
    "\n",
    "while(continue_dialogue==True):\n",
    "    user_input = input()\n",
    "    user_input=user_input.lower()\n",
    "    if(user_input!='bye'):\n",
    "        if(user_input=='thanks' or user_input=='thank you' ):\n",
    "            print(\"Delphi: You are welcome..\")\n",
    "            \n",
    "        else:\n",
    "            if(greeting(user_input)!=None):\n",
    "                tmp=greeting(user_input)\n",
    "                print(\"Delphi: \"+tmp)\n",
    "            else:\n",
    "                print(\"Delphi: \",end=\"\")\n",
    "                temp=response(user_input)\n",
    "                print(temp)  \n",
    "                sent_tokens.remove(user_input)\n",
    "                \n",
    "\n",
    "    else:\n",
    "        continue_dialogue=False\n",
    "        print(\"Delphi: Goodbye, For any inquiries, you can contact either:\")\n",
    "        print(\"by email: candidature@dauphine.tn\")\n",
    "        print(\"by phone: +216 98 199 584\")\n",
    "        print(\"by messenger: University Paris-Dauphine | Tunis\")\n",
    "        print(\"By going to the admission service directly on campus\")   \n"
   ]
  },
  {
   "cell_type": "code",
   "execution_count": null,
   "metadata": {},
   "outputs": [],
   "source": []
  }
 ],
 "metadata": {
  "kernelspec": {
   "display_name": "Python 3",
   "language": "python",
   "name": "python3"
  },
  "language_info": {
   "codemirror_mode": {
    "name": "ipython",
    "version": 3
   },
   "file_extension": ".py",
   "mimetype": "text/x-python",
   "name": "python",
   "nbconvert_exporter": "python",
   "pygments_lexer": "ipython3",
   "version": "3.7.3"
  }
 },
 "nbformat": 4,
 "nbformat_minor": 2
}
